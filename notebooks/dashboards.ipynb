{
 "cells": [
  {
   "cell_type": "code",
   "execution_count": 1,
   "metadata": {},
   "outputs": [],
   "source": [
    "import pandas as pd\n",
    "import ipywidgets as widgets\n",
    "import matplotlib.pyplot as plt\n",
    "\n",
    "%matplotlib inline"
   ]
  },
  {
   "cell_type": "markdown",
   "metadata": {},
   "source": [
    "# Datasets"
   ]
  },
  {
   "cell_type": "code",
   "execution_count": 2,
   "metadata": {},
   "outputs": [],
   "source": [
    "grades = ['biology', 'english', 'french', 'maths', 'music', 'physics']\n",
    "\n",
    "records = pd.read_json('../datasets/records.jsonlines.gz', lines=True)\n",
    "\n",
    "degrees = records['academic_degree'].unique().tolist()\n",
    "genders = records['gender'].unique().tolist()\n",
    "nationalities = records['nationality'].unique().tolist()\n",
    "universities = records['university'].unique().tolist()"
   ]
  },
  {
   "cell_type": "markdown",
   "metadata": {},
   "source": [
    "# Tables"
   ]
  },
  {
   "cell_type": "code",
   "execution_count": 9,
   "metadata": {},
   "outputs": [],
   "source": [
    "def head(n=20, **kwargs):\n",
    "    df = records\n",
    "    \n",
    "    if 'age' in kwargs:\n",
    "        df = df[df['age'] <= kwargs['age']]\n",
    "    if 'name' in kwargs:\n",
    "        df = df[df['full_name'].str.match(kwargs['name'] + '.*')]\n",
    "    if 'degree' in kwargs:\n",
    "        df = df[df['academic_degree'].isin(kwargs['degree'])]\n",
    "    if 'gender' in kwargs:\n",
    "        df = df[df['gender'].isin(kwargs['gender'])]\n",
    "    \n",
    "    return df.head(n)"
   ]
  },
  {
   "cell_type": "code",
   "execution_count": 10,
   "metadata": {},
   "outputs": [
    {
     "data": {
      "application/vnd.jupyter.widget-view+json": {
       "model_id": "df27cf9cf9dd468d96ac1df9f67d1f21",
       "version_major": 2,
       "version_minor": 0
      },
      "text/plain": [
       "interactive(children=(IntSlider(value=20, description='n', max=40, min=1), IntSlider(value=100, description='a…"
      ]
     },
     "metadata": {},
     "output_type": "display_data"
    },
    {
     "data": {
      "text/plain": [
       "<function __main__.head(n=20, **kwargs)>"
      ]
     },
     "execution_count": 10,
     "metadata": {},
     "output_type": "execute_result"
    }
   ],
   "source": [
    "widgets.interact(\n",
    "    head,\n",
    "    n=widgets.IntSlider(min=1, max=40, value=20),\n",
    "    age=widgets.IntSlider(min=0, max=100, value=100),\n",
    "    name=widgets.Text(),\n",
    "    degree=widgets.SelectMultiple(options=degrees, value=degrees),\n",
    "    gender=widgets.SelectMultiple(options=genders, value=genders),\n",
    ")"
   ]
  },
  {
   "cell_type": "markdown",
   "metadata": {},
   "source": [
    "# Univariate"
   ]
  },
  {
   "cell_type": "code",
   "execution_count": 15,
   "metadata": {},
   "outputs": [],
   "source": [
    "def histogram(grade):\n",
    "    return records[grade].plot(kind='hist', bins=20)"
   ]
  },
  {
   "cell_type": "code",
   "execution_count": 16,
   "metadata": {},
   "outputs": [
    {
     "data": {
      "application/vnd.jupyter.widget-view+json": {
       "model_id": "4d9d301a2acc45a2bf30caa897a10d74",
       "version_major": 2,
       "version_minor": 0
      },
      "text/plain": [
       "interactive(children=(Dropdown(description='grade', index=3, options=('biology', 'english', 'french', 'maths',…"
      ]
     },
     "metadata": {},
     "output_type": "display_data"
    },
    {
     "data": {
      "text/plain": [
       "<function __main__.histogram(grade)>"
      ]
     },
     "execution_count": 16,
     "metadata": {},
     "output_type": "execute_result"
    }
   ],
   "source": [
    "widgets.interact(\n",
    "    histogram,\n",
    "    grade=widgets.Dropdown(options=grades, value='maths')\n",
    ")"
   ]
  },
  {
   "cell_type": "markdown",
   "metadata": {},
   "source": [
    "# Bivariate"
   ]
  },
  {
   "cell_type": "code",
   "execution_count": 17,
   "metadata": {},
   "outputs": [],
   "source": [
    "def scatter(x, y):\n",
    "    return records.plot.scatter(x=x, y=y)"
   ]
  },
  {
   "cell_type": "code",
   "execution_count": 18,
   "metadata": {},
   "outputs": [
    {
     "data": {
      "application/vnd.jupyter.widget-view+json": {
       "model_id": "10e48f24a6fd410ba783614e3cc9bceb",
       "version_major": 2,
       "version_minor": 0
      },
      "text/plain": [
       "interactive(children=(Dropdown(description='x', index=3, options=('biology', 'english', 'french', 'maths', 'mu…"
      ]
     },
     "metadata": {},
     "output_type": "display_data"
    },
    {
     "data": {
      "text/plain": [
       "<function __main__.scatter(x, y)>"
      ]
     },
     "execution_count": 18,
     "metadata": {},
     "output_type": "execute_result"
    }
   ],
   "source": [
    "widgets.interact(\n",
    "    scatter,\n",
    "    x=widgets.Dropdown(options=grades, value='maths'),\n",
    "    y=widgets.Dropdown(options=grades, value='maths'),\n",
    ")"
   ]
  },
  {
   "cell_type": "code",
   "execution_count": null,
   "metadata": {},
   "outputs": [],
   "source": []
  }
 ],
 "metadata": {
  "kernelspec": {
   "display_name": "Python 3",
   "language": "python",
   "name": "python3"
  },
  "language_info": {
   "codemirror_mode": {
    "name": "ipython",
    "version": 3
   },
   "file_extension": ".py",
   "mimetype": "text/x-python",
   "name": "python",
   "nbconvert_exporter": "python",
   "pygments_lexer": "ipython3",
   "version": "3.7.3"
  }
 },
 "nbformat": 4,
 "nbformat_minor": 4
}
